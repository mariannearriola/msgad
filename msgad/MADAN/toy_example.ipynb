{
 "cells": [
  {
   "cell_type": "code",
   "execution_count": 1,
   "metadata": {},
   "outputs": [],
   "source": [
    "from pygsp import graphs, filters, plotting\n",
    "import matplotlib.pyplot as plt\n",
    "import numpy as np\n",
    "import networkx as nx\n",
    "from Nets import *\n",
    "import matplotlib as mpl\n",
    "from ipywidgets import *\n",
    "import Madan as md"
   ]
  },
  {
   "cell_type": "code",
   "execution_count": 2,
   "metadata": {},
   "outputs": [],
   "source": [
    "%load_ext cython"
   ]
  },
  {
   "cell_type": "markdown",
   "metadata": {},
   "source": [
    "### Loading attributed network"
   ]
  },
  {
   "cell_type": "code",
   "execution_count": 3,
   "metadata": {
    "scrolled": true
   },
   "outputs": [],
   "source": [
    "#------------------------------------------------------------------------\n",
    "# Loading network\n",
    "#------------------------------------------------------------------------\n",
    "num_net     =    2\n",
    "name        =   'toy_example'\n",
    "attributes  =   ['income']\n",
    "\n",
    "\n",
    "data        =   Nets(num_net,attributes[0]) \n",
    "net         =   data.net\n",
    "\n",
    "#------------------------------------------------------------------------\n",
    "# Getting grund truth\n",
    "#------------------------------------------------------------------------\n",
    "y_true      =   [net.nodes[n]['anomaly'] for n in net.nodes()] \n",
    "true_nodes  =   [i for i in range(0,len(y_true)) if y_true[i]==1]\n",
    "\n",
    "#------------------------------------------------------------------------\n",
    "# Setting Markov times\n",
    "#------------------------------------------------------------------------\n",
    "time_scales   =   10**np.linspace(0,5,2000)\n",
    "time_scales   =   np.concatenate([np.array([0]),time_scales])"
   ]
  },
  {
   "cell_type": "code",
   "execution_count": null,
   "metadata": {},
   "outputs": [],
   "source": []
  },
  {
   "cell_type": "code",
   "execution_count": 4,
   "metadata": {},
   "outputs": [
    {
     "name": "stderr",
     "output_type": "stream",
     "text": [
      "2020-09-06 14:14:03,454:[INFO](pygsp.graphs.community.__init__): Constructed using eps-NN with eps = 2.514866859365871\n"
     ]
    }
   ],
   "source": [
    "#------------------------------------------------------------------------\n",
    "# Setting layout for plotting the network\n",
    "#------------------------------------------------------------------------\n",
    "G = graphs.Community(N=160, Nc=4, comm_sizes=[30, 70, 35, 25] , seed=42)\n",
    "G.set_coordinates(kind='community2D')\n",
    "corrd = G.coords"
   ]
  },
  {
   "cell_type": "markdown",
   "metadata": {},
   "source": [
    "### Instantiating MANDAN"
   ]
  },
  {
   "cell_type": "code",
   "execution_count": 5,
   "metadata": {},
   "outputs": [],
   "source": [
    "madan = md.Madan(net, attributes, sigma=0.08)"
   ]
  },
  {
   "cell_type": "markdown",
   "metadata": {},
   "source": [
    "* Computing the node concentration at a given time $t$\n",
    "* Plotting the concentration of all nodes on a graph\n",
    "* computing the context for anomalies at a given time $t$\n",
    "* Plotting the context of anomalies on a graph\n",
    "* Plotting the node concentration in a barchart"
   ]
  },
  {
   "cell_type": "code",
   "execution_count": 6,
   "metadata": {},
   "outputs": [],
   "source": [
    "def plot_heat(t=0):\n",
    "    \n",
    "    tau = time_scales[int(t)]   \n",
    "    \n",
    "    madan.compute_concentration(tau)\n",
    "    print(\"Markov time: \",tau/madan.G.lmax);print(\"\\n\");\n",
    "    \n",
    "    #------------------------------------------------------------------------\n",
    "    # Plotting concentration on graph nodes\n",
    "    #------------------------------------------------------------------------\n",
    "    madan.plot_graph_concentration(coord=corrd)\n",
    "   \n",
    "    #------------------------------------------------------------------------\n",
    "    # Computing context for anomalies\n",
    "    #------------------------------------------------------------------------\n",
    "    madan.compute_context_for_anomalies()\n",
    "    print(\"Context for anomalies and num of clusters: \",madan.num_clusters)\n",
    "    \n",
    "    #------------------------------------------------------------------------\n",
    "    # Plotting context for anomalies\n",
    "    #------------------------------------------------------------------------\n",
    "    madan.plot_graph_context(coord=corrd)\n",
    "        \n",
    "    #------------------------------------------------------------------------\n",
    "    # Plotting node concentration\n",
    "    #------------------------------------------------------------------------\n",
    "    madan.plot_concentration()       "
   ]
  },
  {
   "cell_type": "code",
   "execution_count": 7,
   "metadata": {
    "scrolled": false
   },
   "outputs": [
    {
     "data": {
      "application/vnd.jupyter.widget-view+json": {
       "model_id": "65a66df25242497695bf1394a87c83ae",
       "version_major": 2,
       "version_minor": 0
      },
      "text/plain": [
       "interactive(children=(Text(value='4', continuous_update=False, description='t'), Output()), _dom_classes=('wid…"
      ]
     },
     "metadata": {},
     "output_type": "display_data"
    }
   ],
   "source": [
    "mpl.rcParams['figure.figsize'] = 16, 6\n",
    "\n",
    "a = widgets.Text(value='682', continuous_update=False)\n",
    "res_interact = interactive(plot_heat, t=a)\n",
    "display(res_interact)\n",
    "\n",
    "# Try:\n",
    "#t = 682\n",
    "#t = 1020\n",
    "#t = 1715"
   ]
  },
  {
   "cell_type": "markdown",
   "metadata": {},
   "source": [
    "### Scanning relevant context in a network"
   ]
  },
  {
   "cell_type": "code",
   "execution_count": 8,
   "metadata": {},
   "outputs": [],
   "source": [
    "#madan.scanning_relevant_context(time_scales, n_jobs=4)\n"
   ]
  },
  {
   "cell_type": "markdown",
   "metadata": {},
   "source": [
    "### Scanning relevant context in different time scales"
   ]
  },
  {
   "cell_type": "code",
   "execution_count": 9,
   "metadata": {},
   "outputs": [],
   "source": [
    "#madan.scanning_relevant_context_time(time_scales)"
   ]
  },
  {
   "cell_type": "code",
   "execution_count": null,
   "metadata": {},
   "outputs": [],
   "source": []
  }
 ],
 "metadata": {
  "hide_input": false,
  "kernelspec": {
   "display_name": "Python 3",
   "language": "python",
   "name": "python3"
  },
  "language_info": {
   "codemirror_mode": {
    "name": "ipython",
    "version": 3
   },
   "file_extension": ".py",
   "mimetype": "text/x-python",
   "name": "python",
   "nbconvert_exporter": "python",
   "pygments_lexer": "ipython3",
   "version": "3.7.3"
  },
  "toc": {
   "base_numbering": 1,
   "nav_menu": {},
   "number_sections": true,
   "sideBar": true,
   "skip_h1_title": false,
   "title_cell": "Table of Contents",
   "title_sidebar": "Contents",
   "toc_cell": false,
   "toc_position": {},
   "toc_section_display": true,
   "toc_window_display": false
  },
  "varInspector": {
   "cols": {
    "lenName": 16,
    "lenType": 16,
    "lenVar": 40
   },
   "kernels_config": {
    "python": {
     "delete_cmd_postfix": "",
     "delete_cmd_prefix": "del ",
     "library": "var_list.py",
     "varRefreshCmd": "print(var_dic_list())"
    },
    "r": {
     "delete_cmd_postfix": ") ",
     "delete_cmd_prefix": "rm(",
     "library": "var_list.r",
     "varRefreshCmd": "cat(var_dic_list()) "
    }
   },
   "types_to_exclude": [
    "module",
    "function",
    "builtin_function_or_method",
    "instance",
    "_Feature"
   ],
   "window_display": false
  }
 },
 "nbformat": 4,
 "nbformat_minor": 2
}
